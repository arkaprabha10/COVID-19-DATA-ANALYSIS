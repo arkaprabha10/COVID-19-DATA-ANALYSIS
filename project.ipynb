{
  "nbformat": 4,
  "nbformat_minor": 0,
  "metadata": {
    "colab": {
      "name": "project.ipynb",
      "provenance": [],
      "collapsed_sections": [],
      "authorship_tag": "ABX9TyMuxFCYiDownW3czh5ir5wm",
      "include_colab_link": true
    },
    "kernelspec": {
      "name": "python3",
      "display_name": "Python 3"
    },
    "language_info": {
      "name": "python"
    }
  },
  "cells": [
    {
      "cell_type": "markdown",
      "metadata": {
        "id": "view-in-github",
        "colab_type": "text"
      },
      "source": [
        "<a href=\"https://colab.research.google.com/github/arkaprabha10/COVID-19-DATA-ANALYSIS/blob/main/project.ipynb\" target=\"_parent\"><img src=\"https://colab.research.google.com/assets/colab-badge.svg\" alt=\"Open In Colab\"/></a>"
      ]
    },
    {
      "cell_type": "code",
      "metadata": {
        "id": "xsymI4XaOO6_"
      },
      "source": [
        "import matplotlib.pyplot as plt\n",
        "from sklearn import datasets\n",
        "import pandas as pd\n",
        "import pandas as pd\n",
        "import numpy as np\n",
        "import seaborn as sns\n",
        "sns.set(color_codes=True)\n",
        "import warnings\n",
        "from sklearn.impute import SimpleImputer\n",
        "warnings.filterwarnings(\"ignore\")"
      ],
      "execution_count": 1,
      "outputs": []
    },
    {
      "cell_type": "code",
      "metadata": {
        "id": "mrZ7ePSgQmJx"
      },
      "source": [
        "!pip install -U -q PyDrive\n",
        "from pydrive.auth import GoogleAuth\n",
        "from pydrive.drive import GoogleDrive\n",
        "from google.colab import auth\n",
        "from oauth2client.client import GoogleCredentials\n",
        "# Authenticate and create the PyDrive client.\n",
        "auth.authenticate_user()\n",
        "gauth = GoogleAuth()\n",
        "gauth.credentials = GoogleCredentials.get_application_default()\n",
        "drive = GoogleDrive(gauth)"
      ],
      "execution_count": 2,
      "outputs": []
    },
    {
      "cell_type": "code",
      "metadata": {
        "colab": {
          "base_uri": "https://localhost:8080/"
        },
        "id": "okP-SciqQohO",
        "outputId": "bcd1c2c0-8c37-40d7-bd82-43cf5bd7d838"
      },
      "source": [
        "# for csv file\n",
        "link='https://drive.google.com/file/d/14aEtw3PE3kZ5fY1i5GrcKQKXVldYRGcS/view?usp=sharing'\n",
        "id = link.split(\"/\")[-2] \n",
        "downloaded = drive.CreateFile({'id':id})  \n",
        "downloaded.GetContentFile('owid-covid-data.csv')\n",
        "df = pd.read_csv('owid-covid-data.csv') \n",
        "print(df.shape)"
      ],
      "execution_count": 3,
      "outputs": [
        {
          "output_type": "stream",
          "text": [
            "(83211, 59)\n"
          ],
          "name": "stdout"
        }
      ]
    },
    {
      "cell_type": "code",
      "metadata": {
        "colab": {
          "base_uri": "https://localhost:8080/"
        },
        "id": "9lKHJ4EOdOvf",
        "outputId": "05f9cfa2-9f20-42af-f021-c3ef821e0f15"
      },
      "source": [
        "#  for csv file\n",
        "link='https://drive.google.com/file/d/13QYgFjQ3ztf_TxgK21CobYI3hCchAqFm/view?usp=sharing'\n",
        "id = link.split(\"/\")[-2] \n",
        "downloaded = drive.CreateFile({'id':id})  \n",
        "downloaded.GetContentFile('govt_index.csv')\n",
        "df_gov = pd.read_csv('govt_index.csv') \n",
        "print(df_gov.shape)"
      ],
      "execution_count": 30,
      "outputs": [
        {
          "output_type": "stream",
          "text": [
            "(137690, 51)\n"
          ],
          "name": "stdout"
        }
      ]
    },
    {
      "cell_type": "code",
      "metadata": {
        "colab": {
          "base_uri": "https://localhost:8080/"
        },
        "id": "newuY-DBdfmk",
        "outputId": "26fd3ac8-6103-4d86-9331-25ee5ed276b9"
      },
      "source": [
        "#  for csv file\n",
        "link='https://drive.google.com/file/d/1m1DH6MDIf_A-2FaDASROgiPfyZZmAYMQ/view?usp=sharing'\n",
        "id = link.split(\"/\")[-2] \n",
        "downloaded = drive.CreateFile({'id':id})  \n",
        "downloaded.GetContentFile('govt_index.csv')\n",
        "df_vaccine = pd.read_csv('govt_index.csv') \n",
        "print(df_vaccine.shape)"
      ],
      "execution_count": 31,
      "outputs": [
        {
          "output_type": "stream",
          "text": [
            "(16176, 12)\n"
          ],
          "name": "stdout"
        }
      ]
    },
    {
      "cell_type": "code",
      "metadata": {
        "colab": {
          "base_uri": "https://localhost:8080/",
          "height": 299
        },
        "id": "JrpRrzjBSa6p",
        "outputId": "f909d255-c6c0-44aa-8c60-aa7b65302650"
      },
      "source": [
        "df.head()"
      ],
      "execution_count": null,
      "outputs": [
        {
          "output_type": "execute_result",
          "data": {
            "text/html": [
              "<div>\n",
              "<style scoped>\n",
              "    .dataframe tbody tr th:only-of-type {\n",
              "        vertical-align: middle;\n",
              "    }\n",
              "\n",
              "    .dataframe tbody tr th {\n",
              "        vertical-align: top;\n",
              "    }\n",
              "\n",
              "    .dataframe thead th {\n",
              "        text-align: right;\n",
              "    }\n",
              "</style>\n",
              "<table border=\"1\" class=\"dataframe\">\n",
              "  <thead>\n",
              "    <tr style=\"text-align: right;\">\n",
              "      <th></th>\n",
              "      <th>iso_code</th>\n",
              "      <th>continent</th>\n",
              "      <th>location</th>\n",
              "      <th>date</th>\n",
              "      <th>total_cases</th>\n",
              "      <th>new_cases</th>\n",
              "      <th>new_cases_smoothed</th>\n",
              "      <th>total_deaths</th>\n",
              "      <th>new_deaths</th>\n",
              "      <th>new_deaths_smoothed</th>\n",
              "      <th>total_cases_per_million</th>\n",
              "      <th>new_cases_per_million</th>\n",
              "      <th>new_cases_smoothed_per_million</th>\n",
              "      <th>total_deaths_per_million</th>\n",
              "      <th>new_deaths_per_million</th>\n",
              "      <th>new_deaths_smoothed_per_million</th>\n",
              "      <th>reproduction_rate</th>\n",
              "      <th>icu_patients</th>\n",
              "      <th>icu_patients_per_million</th>\n",
              "      <th>hosp_patients</th>\n",
              "      <th>hosp_patients_per_million</th>\n",
              "      <th>weekly_icu_admissions</th>\n",
              "      <th>weekly_icu_admissions_per_million</th>\n",
              "      <th>weekly_hosp_admissions</th>\n",
              "      <th>weekly_hosp_admissions_per_million</th>\n",
              "      <th>new_tests</th>\n",
              "      <th>total_tests</th>\n",
              "      <th>total_tests_per_thousand</th>\n",
              "      <th>new_tests_per_thousand</th>\n",
              "      <th>new_tests_smoothed</th>\n",
              "      <th>new_tests_smoothed_per_thousand</th>\n",
              "      <th>positive_rate</th>\n",
              "      <th>tests_per_case</th>\n",
              "      <th>tests_units</th>\n",
              "      <th>total_vaccinations</th>\n",
              "      <th>people_vaccinated</th>\n",
              "      <th>people_fully_vaccinated</th>\n",
              "      <th>new_vaccinations</th>\n",
              "      <th>new_vaccinations_smoothed</th>\n",
              "      <th>total_vaccinations_per_hundred</th>\n",
              "      <th>people_vaccinated_per_hundred</th>\n",
              "      <th>people_fully_vaccinated_per_hundred</th>\n",
              "      <th>new_vaccinations_smoothed_per_million</th>\n",
              "      <th>stringency_index</th>\n",
              "      <th>population</th>\n",
              "      <th>population_density</th>\n",
              "      <th>median_age</th>\n",
              "      <th>aged_65_older</th>\n",
              "      <th>aged_70_older</th>\n",
              "      <th>gdp_per_capita</th>\n",
              "      <th>extreme_poverty</th>\n",
              "      <th>cardiovasc_death_rate</th>\n",
              "      <th>diabetes_prevalence</th>\n",
              "      <th>female_smokers</th>\n",
              "      <th>male_smokers</th>\n",
              "      <th>handwashing_facilities</th>\n",
              "      <th>hospital_beds_per_thousand</th>\n",
              "      <th>life_expectancy</th>\n",
              "      <th>human_development_index</th>\n",
              "    </tr>\n",
              "  </thead>\n",
              "  <tbody>\n",
              "    <tr>\n",
              "      <th>0</th>\n",
              "      <td>AFG</td>\n",
              "      <td>Asia</td>\n",
              "      <td>Afghanistan</td>\n",
              "      <td>2020-02-24</td>\n",
              "      <td>1.0</td>\n",
              "      <td>1.0</td>\n",
              "      <td>NaN</td>\n",
              "      <td>NaN</td>\n",
              "      <td>NaN</td>\n",
              "      <td>NaN</td>\n",
              "      <td>0.026</td>\n",
              "      <td>0.026</td>\n",
              "      <td>NaN</td>\n",
              "      <td>NaN</td>\n",
              "      <td>NaN</td>\n",
              "      <td>NaN</td>\n",
              "      <td>NaN</td>\n",
              "      <td>NaN</td>\n",
              "      <td>NaN</td>\n",
              "      <td>NaN</td>\n",
              "      <td>NaN</td>\n",
              "      <td>NaN</td>\n",
              "      <td>NaN</td>\n",
              "      <td>NaN</td>\n",
              "      <td>NaN</td>\n",
              "      <td>NaN</td>\n",
              "      <td>NaN</td>\n",
              "      <td>NaN</td>\n",
              "      <td>NaN</td>\n",
              "      <td>NaN</td>\n",
              "      <td>NaN</td>\n",
              "      <td>NaN</td>\n",
              "      <td>NaN</td>\n",
              "      <td>NaN</td>\n",
              "      <td>NaN</td>\n",
              "      <td>NaN</td>\n",
              "      <td>NaN</td>\n",
              "      <td>NaN</td>\n",
              "      <td>NaN</td>\n",
              "      <td>NaN</td>\n",
              "      <td>NaN</td>\n",
              "      <td>NaN</td>\n",
              "      <td>NaN</td>\n",
              "      <td>8.33</td>\n",
              "      <td>38928341.0</td>\n",
              "      <td>54.422</td>\n",
              "      <td>18.6</td>\n",
              "      <td>2.581</td>\n",
              "      <td>1.337</td>\n",
              "      <td>1803.987</td>\n",
              "      <td>NaN</td>\n",
              "      <td>597.029</td>\n",
              "      <td>9.59</td>\n",
              "      <td>NaN</td>\n",
              "      <td>NaN</td>\n",
              "      <td>37.746</td>\n",
              "      <td>0.5</td>\n",
              "      <td>64.83</td>\n",
              "      <td>0.511</td>\n",
              "    </tr>\n",
              "    <tr>\n",
              "      <th>1</th>\n",
              "      <td>AFG</td>\n",
              "      <td>Asia</td>\n",
              "      <td>Afghanistan</td>\n",
              "      <td>2020-02-25</td>\n",
              "      <td>1.0</td>\n",
              "      <td>0.0</td>\n",
              "      <td>NaN</td>\n",
              "      <td>NaN</td>\n",
              "      <td>NaN</td>\n",
              "      <td>NaN</td>\n",
              "      <td>0.026</td>\n",
              "      <td>0.000</td>\n",
              "      <td>NaN</td>\n",
              "      <td>NaN</td>\n",
              "      <td>NaN</td>\n",
              "      <td>NaN</td>\n",
              "      <td>NaN</td>\n",
              "      <td>NaN</td>\n",
              "      <td>NaN</td>\n",
              "      <td>NaN</td>\n",
              "      <td>NaN</td>\n",
              "      <td>NaN</td>\n",
              "      <td>NaN</td>\n",
              "      <td>NaN</td>\n",
              "      <td>NaN</td>\n",
              "      <td>NaN</td>\n",
              "      <td>NaN</td>\n",
              "      <td>NaN</td>\n",
              "      <td>NaN</td>\n",
              "      <td>NaN</td>\n",
              "      <td>NaN</td>\n",
              "      <td>NaN</td>\n",
              "      <td>NaN</td>\n",
              "      <td>NaN</td>\n",
              "      <td>NaN</td>\n",
              "      <td>NaN</td>\n",
              "      <td>NaN</td>\n",
              "      <td>NaN</td>\n",
              "      <td>NaN</td>\n",
              "      <td>NaN</td>\n",
              "      <td>NaN</td>\n",
              "      <td>NaN</td>\n",
              "      <td>NaN</td>\n",
              "      <td>8.33</td>\n",
              "      <td>38928341.0</td>\n",
              "      <td>54.422</td>\n",
              "      <td>18.6</td>\n",
              "      <td>2.581</td>\n",
              "      <td>1.337</td>\n",
              "      <td>1803.987</td>\n",
              "      <td>NaN</td>\n",
              "      <td>597.029</td>\n",
              "      <td>9.59</td>\n",
              "      <td>NaN</td>\n",
              "      <td>NaN</td>\n",
              "      <td>37.746</td>\n",
              "      <td>0.5</td>\n",
              "      <td>64.83</td>\n",
              "      <td>0.511</td>\n",
              "    </tr>\n",
              "    <tr>\n",
              "      <th>2</th>\n",
              "      <td>AFG</td>\n",
              "      <td>Asia</td>\n",
              "      <td>Afghanistan</td>\n",
              "      <td>2020-02-26</td>\n",
              "      <td>1.0</td>\n",
              "      <td>0.0</td>\n",
              "      <td>NaN</td>\n",
              "      <td>NaN</td>\n",
              "      <td>NaN</td>\n",
              "      <td>NaN</td>\n",
              "      <td>0.026</td>\n",
              "      <td>0.000</td>\n",
              "      <td>NaN</td>\n",
              "      <td>NaN</td>\n",
              "      <td>NaN</td>\n",
              "      <td>NaN</td>\n",
              "      <td>NaN</td>\n",
              "      <td>NaN</td>\n",
              "      <td>NaN</td>\n",
              "      <td>NaN</td>\n",
              "      <td>NaN</td>\n",
              "      <td>NaN</td>\n",
              "      <td>NaN</td>\n",
              "      <td>NaN</td>\n",
              "      <td>NaN</td>\n",
              "      <td>NaN</td>\n",
              "      <td>NaN</td>\n",
              "      <td>NaN</td>\n",
              "      <td>NaN</td>\n",
              "      <td>NaN</td>\n",
              "      <td>NaN</td>\n",
              "      <td>NaN</td>\n",
              "      <td>NaN</td>\n",
              "      <td>NaN</td>\n",
              "      <td>NaN</td>\n",
              "      <td>NaN</td>\n",
              "      <td>NaN</td>\n",
              "      <td>NaN</td>\n",
              "      <td>NaN</td>\n",
              "      <td>NaN</td>\n",
              "      <td>NaN</td>\n",
              "      <td>NaN</td>\n",
              "      <td>NaN</td>\n",
              "      <td>8.33</td>\n",
              "      <td>38928341.0</td>\n",
              "      <td>54.422</td>\n",
              "      <td>18.6</td>\n",
              "      <td>2.581</td>\n",
              "      <td>1.337</td>\n",
              "      <td>1803.987</td>\n",
              "      <td>NaN</td>\n",
              "      <td>597.029</td>\n",
              "      <td>9.59</td>\n",
              "      <td>NaN</td>\n",
              "      <td>NaN</td>\n",
              "      <td>37.746</td>\n",
              "      <td>0.5</td>\n",
              "      <td>64.83</td>\n",
              "      <td>0.511</td>\n",
              "    </tr>\n",
              "    <tr>\n",
              "      <th>3</th>\n",
              "      <td>AFG</td>\n",
              "      <td>Asia</td>\n",
              "      <td>Afghanistan</td>\n",
              "      <td>2020-02-27</td>\n",
              "      <td>1.0</td>\n",
              "      <td>0.0</td>\n",
              "      <td>NaN</td>\n",
              "      <td>NaN</td>\n",
              "      <td>NaN</td>\n",
              "      <td>NaN</td>\n",
              "      <td>0.026</td>\n",
              "      <td>0.000</td>\n",
              "      <td>NaN</td>\n",
              "      <td>NaN</td>\n",
              "      <td>NaN</td>\n",
              "      <td>NaN</td>\n",
              "      <td>NaN</td>\n",
              "      <td>NaN</td>\n",
              "      <td>NaN</td>\n",
              "      <td>NaN</td>\n",
              "      <td>NaN</td>\n",
              "      <td>NaN</td>\n",
              "      <td>NaN</td>\n",
              "      <td>NaN</td>\n",
              "      <td>NaN</td>\n",
              "      <td>NaN</td>\n",
              "      <td>NaN</td>\n",
              "      <td>NaN</td>\n",
              "      <td>NaN</td>\n",
              "      <td>NaN</td>\n",
              "      <td>NaN</td>\n",
              "      <td>NaN</td>\n",
              "      <td>NaN</td>\n",
              "      <td>NaN</td>\n",
              "      <td>NaN</td>\n",
              "      <td>NaN</td>\n",
              "      <td>NaN</td>\n",
              "      <td>NaN</td>\n",
              "      <td>NaN</td>\n",
              "      <td>NaN</td>\n",
              "      <td>NaN</td>\n",
              "      <td>NaN</td>\n",
              "      <td>NaN</td>\n",
              "      <td>8.33</td>\n",
              "      <td>38928341.0</td>\n",
              "      <td>54.422</td>\n",
              "      <td>18.6</td>\n",
              "      <td>2.581</td>\n",
              "      <td>1.337</td>\n",
              "      <td>1803.987</td>\n",
              "      <td>NaN</td>\n",
              "      <td>597.029</td>\n",
              "      <td>9.59</td>\n",
              "      <td>NaN</td>\n",
              "      <td>NaN</td>\n",
              "      <td>37.746</td>\n",
              "      <td>0.5</td>\n",
              "      <td>64.83</td>\n",
              "      <td>0.511</td>\n",
              "    </tr>\n",
              "    <tr>\n",
              "      <th>4</th>\n",
              "      <td>AFG</td>\n",
              "      <td>Asia</td>\n",
              "      <td>Afghanistan</td>\n",
              "      <td>2020-02-28</td>\n",
              "      <td>1.0</td>\n",
              "      <td>0.0</td>\n",
              "      <td>NaN</td>\n",
              "      <td>NaN</td>\n",
              "      <td>NaN</td>\n",
              "      <td>NaN</td>\n",
              "      <td>0.026</td>\n",
              "      <td>0.000</td>\n",
              "      <td>NaN</td>\n",
              "      <td>NaN</td>\n",
              "      <td>NaN</td>\n",
              "      <td>NaN</td>\n",
              "      <td>NaN</td>\n",
              "      <td>NaN</td>\n",
              "      <td>NaN</td>\n",
              "      <td>NaN</td>\n",
              "      <td>NaN</td>\n",
              "      <td>NaN</td>\n",
              "      <td>NaN</td>\n",
              "      <td>NaN</td>\n",
              "      <td>NaN</td>\n",
              "      <td>NaN</td>\n",
              "      <td>NaN</td>\n",
              "      <td>NaN</td>\n",
              "      <td>NaN</td>\n",
              "      <td>NaN</td>\n",
              "      <td>NaN</td>\n",
              "      <td>NaN</td>\n",
              "      <td>NaN</td>\n",
              "      <td>NaN</td>\n",
              "      <td>NaN</td>\n",
              "      <td>NaN</td>\n",
              "      <td>NaN</td>\n",
              "      <td>NaN</td>\n",
              "      <td>NaN</td>\n",
              "      <td>NaN</td>\n",
              "      <td>NaN</td>\n",
              "      <td>NaN</td>\n",
              "      <td>NaN</td>\n",
              "      <td>8.33</td>\n",
              "      <td>38928341.0</td>\n",
              "      <td>54.422</td>\n",
              "      <td>18.6</td>\n",
              "      <td>2.581</td>\n",
              "      <td>1.337</td>\n",
              "      <td>1803.987</td>\n",
              "      <td>NaN</td>\n",
              "      <td>597.029</td>\n",
              "      <td>9.59</td>\n",
              "      <td>NaN</td>\n",
              "      <td>NaN</td>\n",
              "      <td>37.746</td>\n",
              "      <td>0.5</td>\n",
              "      <td>64.83</td>\n",
              "      <td>0.511</td>\n",
              "    </tr>\n",
              "  </tbody>\n",
              "</table>\n",
              "</div>"
            ],
            "text/plain": [
              "  iso_code continent  ... life_expectancy human_development_index\n",
              "0      AFG      Asia  ...           64.83                   0.511\n",
              "1      AFG      Asia  ...           64.83                   0.511\n",
              "2      AFG      Asia  ...           64.83                   0.511\n",
              "3      AFG      Asia  ...           64.83                   0.511\n",
              "4      AFG      Asia  ...           64.83                   0.511\n",
              "\n",
              "[5 rows x 59 columns]"
            ]
          },
          "metadata": {
            "tags": []
          },
          "execution_count": 4
        }
      ]
    },
    {
      "cell_type": "code",
      "metadata": {
        "id": "cVr0sy_4TfjW"
      },
      "source": [
        "print(\"total size of data is = \",df.shape)\n",
        "print()\n",
        "missing_values_count = df.isnull().sum()\n",
        "print(\"Feature with highest number of missing data is ,\")\n",
        "print(missing_values_count.nlargest(n=50))\n",
        "print()\n",
        "print(\"% data which is missing = \",missing_values_count.sum()/np.product(df.shape)*100)"
      ],
      "execution_count": null,
      "outputs": []
    },
    {
      "cell_type": "code",
      "metadata": {
        "id": "ZuRfanGVT_Cw"
      },
      "source": [
        "temp_df = df[~np.isnan(df['weekly_icu_admissions' ])]\n",
        "print(temp_df.shape)\n",
        "print(temp_df.groupby(['location']).mean())\n"
      ],
      "execution_count": null,
      "outputs": []
    },
    {
      "cell_type": "code",
      "metadata": {
        "colab": {
          "base_uri": "https://localhost:8080/",
          "height": 285
        },
        "id": "oMmAKZWXWAWd",
        "outputId": "b51b82dd-37da-43c2-975d-2caad584d463"
      },
      "source": [
        "# INDIA\n",
        "df_india = df[df['location']=='India']\n",
        "\n",
        "df_india_total_cases = df_india['total_cases']\n",
        "df_india_total_cases = df_india_total_cases.fillna(0)\n",
        "# plt.plot(df_india_total_cases)\n",
        "\n",
        "df_india_total_cases_per_million = df_india['total_cases_per_million']\n",
        "df_india_total_cases_per_million = df_india_total_cases_per_million.fillna(0)\n",
        "# plt.plot(df_india_total_cases_per_million)\n",
        "\n",
        "\n",
        "df_india_new_cases = df_india['new_cases']\n",
        "df_india_new_cases = df_india_new_cases.fillna(0)\n",
        "# plt.plot(df_india_new_cases)\n",
        "\n",
        "df_india_new_cases_per_million = df_india['new_cases_per_million']\n",
        "df_india_new_cases_per_million = df_india_new_cases_per_million.fillna(0)\n",
        "# plt.plot(df_india_new_cases_per_million)\n",
        "\n",
        "\n",
        "df_india_total_death = df_india['total_deaths']\n",
        "df_india_total_death = df_india_total_death.fillna(0)\n",
        "# plt.plot(df_india_total_death)\n",
        "\n",
        "df_india_total_deaths_per_million = df_india['total_deaths_per_million']\n",
        "df_india_total_deaths_per_million = df_india_total_deaths_per_million.fillna(0)\n",
        "# plt.plot(df_india_total_deaths_per_million)\n",
        "\n",
        "\n",
        "# handle outlier here\n",
        "df_india_new_death = df_india['new_deaths']\n",
        "df_india_new_death = df_india_new_death.fillna(0)\n",
        "# plt.plot(df_india_new_death)\n",
        "\n",
        "df_india_new_deaths_per_million = df_india['new_deaths_per_million']\n",
        "df_india_new_deaths_per_million = df_india_new_deaths_per_million.fillna(0)\n",
        "# plt.plot(df_india_new_deaths_per_million)\n",
        "\n",
        "\n",
        "\n",
        "df_india_reproduction = df_india['reproduction_rate']\n",
        "# missing_values_count = df_india_reproduction.isnull().sum()\n",
        "# print(missing_values_count)\n",
        "x=df_india_reproduction.dropna()\n",
        "val = x.iloc[0]\n",
        "val1 =x.iloc[-1]\n",
        "\n",
        "df_india_reproduction = df_india_reproduction.fillna(val)\n",
        "df_india_reproduction.iloc[-1] = val1\n",
        "# plt.plot(df_india_reproduction)\n",
        "\n",
        "df_india_stringency = df_india['stringency_index']\n",
        "df_india_stringency = df_india_stringency.fillna(method = 'bfill', axis=0).fillna(df_india_stringency.dropna().mean())\n",
        "plt.plot(df_india_stringency)\n",
        "\n"
      ],
      "execution_count": 20,
      "outputs": [
        {
          "output_type": "execute_result",
          "data": {
            "text/plain": [
              "[<matplotlib.lines.Line2D at 0x7f0400b0b350>]"
            ]
          },
          "metadata": {
            "tags": []
          },
          "execution_count": 20
        },
        {
          "output_type": "display_data",
          "data": {
            "image/png": "[encoded data removed]",
            "text/plain": [
              "<Figure size 432x288 with 1 Axes>"
            ]
          },
          "metadata": {
            "tags": [],
            "needs_background": "light"
          }
        }
      ]
    },
    {
      "cell_type": "code",
      "metadata": {
        "colab": {
          "base_uri": "https://localhost:8080/",
          "height": 285
        },
        "id": "d59xUEWMerg1",
        "outputId": "65d8cf36-b305-4e66-9ad0-0524278f44fe"
      },
      "source": [
        "# ISRAEL\n",
        "df_israel = df[df['location']=='Israel']\n",
        "\n",
        "df_israel_total_cases = df_israel['total_cases']\n",
        "df_israel_total_cases = df_israel_total_cases.fillna(0)\n",
        "# plt.plot(df_israel_total_cases)\n",
        "\n",
        "df_israel_total_cases_per_million = df_israel['total_cases_per_million']\n",
        "df_israel_total_cases_per_million = df_israel_total_cases_per_million.fillna(0)\n",
        "# plt.plot(df_israel_total_cases_per_million)\n",
        "\n",
        "\n",
        "df_israel_new_cases = df_israel['new_cases']\n",
        "df_israel_new_cases = df_israel_new_cases.fillna(0)\n",
        "# plt.plot(df_israel_new_cases)\n",
        "\n",
        "df_israel_new_cases_per_million = df_israel['new_cases_per_million']\n",
        "df_israela_new_cases_per_million = df_israel_new_cases_per_million.fillna(0)\n",
        "# plt.plot(df_israel_new_cases_per_million)\n",
        "\n",
        "\n",
        "df_israel_total_death = df_israel['total_deaths']\n",
        "df_israel_total_death = df_israel_total_death.fillna(0)\n",
        "# plt.plot(df_israel_total_death)\n",
        "\n",
        "df_israel_total_deaths_per_million = df_israel['total_deaths_per_million']\n",
        "df_israel_total_deaths_per_million = df_israel_total_deaths_per_million.fillna(0)\n",
        "# plt.plot(df_israel_total_deaths_per_million)\n",
        "\n",
        "\n",
        "# handle outlier here\n",
        "df_israel_new_death = df_israel['new_deaths']\n",
        "df_israel_new_death = df_israel_new_death.fillna(0)\n",
        "# plt.plot(df_israel_new_death)\n",
        "\n",
        "df_israel_new_deaths_per_million = df_israel['new_deaths_per_million']\n",
        "df_israel_new_deaths_per_million = df_israel_new_deaths_per_million.fillna(0)\n",
        "# plt.plot(df_israel_new_deaths_per_million)\n",
        "\n",
        "\n",
        "df_israel_reproduction = df_israel['reproduction_rate']\n",
        "# missing_values_count = df_israel_reproduction.isnull().sum()\n",
        "# print(missing_values_count)\n",
        "x=df_israel_reproduction.dropna()\n",
        "val1 =x.iloc[-1]\n",
        "# df_israel_reproduction = df_israel_reproduction.fillna(val)\n",
        "# df_israel_reproduction.iloc[-1] = val1\n",
        "# df_israel_reproduction.iloc[0] = val\n",
        "\n",
        "df_israel_reproduction = df_israel_reproduction.fillna(method = 'bfill', axis=0).fillna(val1)\n",
        "# plt.plot(df_israel_reproduction)\n",
        "\n",
        "df_israel_stringency = df_israel['stringency_index']\n",
        "df_israel_stringency = df_israel_stringency.fillna(method = 'bfill', axis=0).fillna(df_israel_stringency.dropna().mean())\n",
        "plt.plot(df_israel_stringency)\n",
        "\n"
      ],
      "execution_count": 21,
      "outputs": [
        {
          "output_type": "execute_result",
          "data": {
            "text/plain": [
              "[<matplotlib.lines.Line2D at 0x7f0400a6fb90>]"
            ]
          },
          "metadata": {
            "tags": []
          },
          "execution_count": 21
        },
        {
          "output_type": "display_data",
          "data": {
            "image/png": "[encoded data removed]",
            "text/plain": [
              "<Figure size 432x288 with 1 Axes>"
            ]
          },
          "metadata": {
            "tags": [],
            "needs_background": "light"
          }
        }
      ]
    },
    {
      "cell_type": "code",
      "metadata": {
        "colab": {
          "base_uri": "https://localhost:8080/",
          "height": 285
        },
        "id": "6TKpEBtehoYi",
        "outputId": "2dbdb000-594b-441c-cf29-296a287bd392"
      },
      "source": [
        "# USA\n",
        "df_usa = df[df['location']=='United States']\n",
        "\n",
        "df_usa_total_cases = df_usa['total_cases']\n",
        "df_usa_total_cases = df_usa_total_cases.fillna(0)\n",
        "# plt.plot(df_usa_total_cases)\n",
        "\n",
        "df_usa_total_cases_per_million = df_usa['total_cases_per_million']\n",
        "df_usa_total_cases_per_million = df_usa_total_cases_per_million.fillna(0)\n",
        "# plt.plot(df_usa_total_cases_per_million)\n",
        "\n",
        "df_usa_new_cases = df_usa['new_cases']\n",
        "df_usa_new_cases = df_usa_new_cases.fillna(0)\n",
        "# plt.plot(df_usa_new_cases)\n",
        "\n",
        "df_usa_new_cases_per_million = df_usa['new_cases_per_million']\n",
        "df_usa_new_cases_per_million = df_usa_new_cases_per_million.fillna(0)\n",
        "# plt.plot(df_usa_new_cases_per_million)\n",
        "\n",
        "df_usa_total_death = df_usa['total_deaths']\n",
        "df_usa_total_death = df_usa_total_death.fillna(0)\n",
        "# plt.plot(df_usa_total_death)\n",
        "\n",
        "df_usa_total_deaths_per_million = df_usa['total_deaths_per_million']\n",
        "df_usa_total_deaths_per_million = df_usa_total_deaths_per_million.fillna(0)\n",
        "# plt.plot(df_usa_total_deaths_per_million)\n",
        "\n",
        "\n",
        "df_usa_new_death = df_usa['new_deaths']\n",
        "df_usa_new_death = df_usa_new_death.fillna(0)\n",
        "# plt.plot(df_usa_new_death)\n",
        "\n",
        "df_usa_new_deaths_per_million = df_usa['new_deaths_per_million']\n",
        "df_usa_new_deaths_per_million = df_usa_new_deaths_per_million.fillna(0)\n",
        "# plt.plot(df_usa_new_deaths_per_million)\n",
        "\n",
        "\n",
        "df_usa_reproduction = df_usa['reproduction_rate']\n",
        "x=df_usa_reproduction.dropna()\n",
        "val = x.iloc[0]\n",
        "val1 =x.iloc[-1]\n",
        "df_usa_reproduction = df_usa_reproduction.fillna(val)\n",
        "df_usa_reproduction.iloc[-1] = val1\n",
        "# plt.plot(df_usa_reproduction)\n",
        "\n",
        "\n",
        "df_usa_stringency = df_usa['stringency_index']\n",
        "df_usa_stringency = df_usa_stringency.fillna(method = 'bfill', axis=0).fillna(df_usa_stringency.dropna().mean())\n",
        "plt.plot(df_usa_stringency)"
      ],
      "execution_count": 22,
      "outputs": [
        {
          "output_type": "execute_result",
          "data": {
            "text/plain": [
              "[<matplotlib.lines.Line2D at 0x7f0400a5db10>]"
            ]
          },
          "metadata": {
            "tags": []
          },
          "execution_count": 22
        },
        {
          "output_type": "display_data",
          "data": {
            "image/png": "[encoded data removed]",
            "text/plain": [
              "<Figure size 432x288 with 1 Axes>"
            ]
          },
          "metadata": {
            "tags": [],
            "needs_background": "light"
          }
        }
      ]
    },
    {
      "cell_type": "code",
      "metadata": {
        "colab": {
          "base_uri": "https://localhost:8080/",
          "height": 285
        },
        "id": "i5vpkJddySgM",
        "outputId": "0c57fe45-9c2b-44be-addd-32a8e25c1718"
      },
      "source": [
        "# Italy\n",
        "df_italy = df[df['location']=='Italy']\n",
        "\n",
        "df_italy_total_cases = df_italy['total_cases']\n",
        "df_italy_total_cases = df_italy_total_cases.fillna(0)\n",
        "# plt.plot(df_italy_total_cases)\n",
        "\n",
        "df_italy_total_cases_per_million = df_italy['total_cases_per_million']\n",
        "df_italy_total_cases_per_million = df_italy_total_cases_per_million.fillna(0)\n",
        "# plt.plot(df_italy_total_cases_per_million)\n",
        "\n",
        "\n",
        "df_italy_new_cases = df_italy['new_cases']\n",
        "df_italy_new_cases = df_italy_new_cases.fillna(0)\n",
        "# plt.plot(df_italy_new_cases)\n",
        "# plt.show()\n",
        "\n",
        "df_italy_new_cases_per_million = df_italy['new_cases_per_million']\n",
        "df_italy_new_cases_per_million = df_italy_new_cases_per_million.fillna(0)\n",
        "# plt.plot(df_italy_new_cases_per_million)\n",
        "\n",
        "\n",
        "df_italy_total_death = df_italy['total_deaths']\n",
        "df_italy_total_death = df_italy_total_death.fillna(0)\n",
        "# plt.plot(df_italy_total_death)\n",
        "\n",
        "df_italy_total_deaths_per_million = df_italy['total_deaths_per_million']\n",
        "df_italy_total_deaths_per_million = df_italy_total_deaths_per_million.fillna(0)\n",
        "# plt.plot(df_italy_total_deaths_per_million)\n",
        "\n",
        "\n",
        "df_italy_new_death = df_italy['new_deaths'].clip(lower=0)\n",
        "df_italy_new_death = df_italy_new_death.fillna(0)\n",
        "# df_italy_new_death = df_italy_new_death.clip(lower=0)\n",
        "# plt.plot(df_italy_new_death)\n",
        "\n",
        "df_italy_new_deaths_per_million = df_italy['new_deaths_per_million'].clip(lower=0)\n",
        "df_italy_new_deaths_per_million = df_italy_new_deaths_per_million.fillna(0)\n",
        "# plt.plot(df_italy_new_deaths_per_million)\n",
        "\n",
        "\n",
        "df_italy_reproduction = df_italy['reproduction_rate']\n",
        "x=df_italy_reproduction.dropna()\n",
        "val = x.iloc[0]\n",
        "val1 =x.iloc[-1]\n",
        "df_italy_reproduction = df_italy_reproduction.fillna(val)\n",
        "df_italy_reproduction.iloc[-1] = val1\n",
        "# plt.plot(df_italy_reproduction)\n",
        "\n",
        "\n",
        "\n",
        "df_italy_stringency = df_italy['stringency_index']\n",
        "df_italy_stringency = df_italy_stringency.fillna(method = 'bfill', axis=0).fillna(df_italy_stringency.dropna().mean())\n",
        "plt.plot(df_italy_stringency)"
      ],
      "execution_count": 24,
      "outputs": [
        {
          "output_type": "execute_result",
          "data": {
            "text/plain": [
              "[<matplotlib.lines.Line2D at 0x7f0400930c50>]"
            ]
          },
          "metadata": {
            "tags": []
          },
          "execution_count": 24
        },
        {
          "output_type": "display_data",
          "data": {
            "image/png": "[encoded data removed]",
            "text/plain": [
              "<Figure size 432x288 with 1 Axes>"
            ]
          },
          "metadata": {
            "tags": [],
            "needs_background": "light"
          }
        }
      ]
    },
    {
      "cell_type": "code",
      "metadata": {
        "colab": {
          "base_uri": "https://localhost:8080/",
          "height": 288
        },
        "id": "Qgu9-GyS0r0W",
        "outputId": "f0563029-56f3-44d9-8971-dab198c5e861"
      },
      "source": [
        "# New Zealand\n",
        "df_nz = df[df['location']=='New Zealand']\n",
        "\n",
        "df_nz_total_cases = df_nz['total_cases']\n",
        "df_nz_total_cases = df_nz_total_cases.fillna(0)\n",
        "# plt.plot(df_nz_total_cases)\n",
        "\n",
        "df_nz_total_cases_per_million = df_nz['total_cases_per_million']\n",
        "df_nz_total_cases_per_million = df_nz_total_cases_per_million.fillna(0)\n",
        "# plt.plot(df_nz_total_cases_per_million)\n",
        "\n",
        "\n",
        "df_nz_new_cases = df_nz['new_cases']\n",
        "df_nz_new_cases = df_nz_new_cases.fillna(0)\n",
        "# plt.plot(df_nz_new_cases)\n",
        "# plt.show()\n",
        "\n",
        "df_nz_new_cases_per_million = df_nz['new_cases_per_million']\n",
        "df_nz_new_cases_per_million = df_nz_new_cases_per_million.fillna(0)\n",
        "# plt.plot(df_nz_new_cases_per_million)\n",
        "\n",
        "df_nz_total_death = df_nz['total_deaths']\n",
        "df_nz_total_death = df_nz_total_death.fillna(0)\n",
        "# plt.plot(df_nz_total_death)\n",
        "\n",
        "df_nz_total_deaths_per_million = df_nz['total_deaths_per_million']\n",
        "df_nz_total_deaths_per_million = df_nz_total_deaths_per_million.fillna(0)\n",
        "# plt.plot(df_nz_total_deaths_per_million)\n",
        "\n",
        "df_nz_new_death = df_nz['new_deaths']\n",
        "df_nz_new_death = df_nz_new_death.fillna(0)\n",
        "df_nz_new_death = df_nz_new_death.clip(lower=0)\n",
        "# plt.plot(df_nz_new_death)\n",
        "\n",
        "df_nz_new_deaths_per_million = df_nz['new_deaths_per_million']\n",
        "df_nz_new_deaths_per_million = df_nz_new_deaths_per_million.fillna(0)\n",
        "# plt.plot(df_nz_new_deaths_per_million)\n",
        "\n",
        "\n",
        "df_nz_reproduction = df_nz['reproduction_rate']\n",
        "x=df_nz_reproduction.dropna()\n",
        "val = x.iloc[0]\n",
        "val1 =x.iloc[-1]\n",
        "df_nz_reproduction = df_nz_reproduction.fillna(val)\n",
        "df_nz_reproduction.iloc[-1] = val1\n",
        "# plt.plot(df_nz_reproduction)\n",
        "\n",
        "\n",
        "df_nz_stringency = df_nz['stringency_index']\n",
        "df_nz_stringency = df_nz_stringency.fillna(method = 'bfill', axis=0).fillna(df_nz_stringency.dropna().mean())\n",
        "plt.plot(df_nz_stringency)"
      ],
      "execution_count": 25,
      "outputs": [
        {
          "output_type": "execute_result",
          "data": {
            "text/plain": [
              "[<matplotlib.lines.Line2D at 0x7f040091dad0>]"
            ]
          },
          "metadata": {
            "tags": []
          },
          "execution_count": 25
        },
        {
          "output_type": "display_data",
          "data": {
            "image/png": "[encoded data removed]",
            "text/plain": [
              "<Figure size 432x288 with 1 Axes>"
            ]
          },
          "metadata": {
            "tags": [],
            "needs_background": "light"
          }
        }
      ]
    },
    {
      "cell_type": "code",
      "metadata": {
        "colab": {
          "base_uri": "https://localhost:8080/",
          "height": 268
        },
        "id": "BM-gBDeiXX2w",
        "outputId": "0ec5d30f-dd5d-45c6-9c17-cc893a13186b"
      },
      "source": [
        "plt.figure()\n",
        "plt.plot(df_india_stringency.to_numpy(),label='ind')\n",
        "plt.plot(df_israel_stringency.to_numpy(),label='isr')\n",
        "plt.plot(df_usa_stringency.to_numpy(),label='usa')\n",
        "plt.plot(df_italy_stringency.to_numpy(),label='ita')\n",
        "plt.plot(df_nz_stringency.to_numpy(),label='nz')\n",
        "plt.legend()\n",
        "\n",
        "plt.grid()"
      ],
      "execution_count": 29,
      "outputs": [
        {
          "output_type": "display_data",
          "data": {
            "image/png": "[encoded data removed]",
            "text/plain": [
              "<Figure size 432x288 with 1 Axes>"
            ]
          },
          "metadata": {
            "tags": [],
            "needs_background": "light"
          }
        }
      ]
    }
  ]
}